{
  "metadata": {
    "language_info": {
      "codemirror_mode": {
        "name": "python",
        "version": 3
      },
      "file_extension": ".py",
      "mimetype": "text/x-python",
      "name": "python",
      "nbconvert_exporter": "python",
      "pygments_lexer": "ipython3",
      "version": "3.8"
    },
    "kernelspec": {
      "name": "python",
      "display_name": "Python (Pyodide)",
      "language": "python"
    }
  },
  "nbformat_minor": 4,
  "nbformat": 4,
  "cells": [
    {
      "cell_type": "markdown",
      "source": "## The Power of Python Inner Functions\n\n#### Documentation at:\nhttps://realpython.com/inner-functions-what-are-they-good-for/",
      "metadata": {}
    },
    {
      "cell_type": "code",
      "source": "def outer_function(outer_parm: str):\n\n    print(outer_parm)\n    \n    def inner_function(inner_parm):    \n        return(f'Your outer parm was {outer_parm} and your inner parm is {inner_parm}.')\n        \n    return inner_function",
      "metadata": {
        "trusted": true
      },
      "execution_count": 24,
      "outputs": []
    },
    {
      "cell_type": "code",
      "source": "x = outer_function('outer')",
      "metadata": {
        "trusted": true
      },
      "execution_count": 30,
      "outputs": [
        {
          "name": "stdout",
          "text": "outer\n",
          "output_type": "stream"
        }
      ]
    },
    {
      "cell_type": "code",
      "source": "type(x)",
      "metadata": {
        "trusted": true
      },
      "execution_count": 31,
      "outputs": [
        {
          "execution_count": 31,
          "output_type": "execute_result",
          "data": {
            "text/plain": "function"
          },
          "metadata": {}
        }
      ]
    },
    {
      "cell_type": "code",
      "source": "x('inner')",
      "metadata": {
        "trusted": true
      },
      "execution_count": 32,
      "outputs": [
        {
          "execution_count": 32,
          "output_type": "execute_result",
          "data": {
            "text/plain": "'Your outer parm was outer and your inner parm is inner.'"
          },
          "metadata": {}
        }
      ]
    },
    {
      "cell_type": "code",
      "source": "def generate_power(exponent):\n    def power(base):\n        return base ** exponent\n    return power",
      "metadata": {
        "trusted": true
      },
      "execution_count": 17,
      "outputs": []
    },
    {
      "cell_type": "code",
      "source": "raise_two = generate_power(2)",
      "metadata": {
        "trusted": true
      },
      "execution_count": 18,
      "outputs": []
    },
    {
      "cell_type": "code",
      "source": "raise_two(4)",
      "metadata": {
        "trusted": true
      },
      "execution_count": 19,
      "outputs": [
        {
          "execution_count": 19,
          "output_type": "execute_result",
          "data": {
            "text/plain": "16"
          },
          "metadata": {}
        }
      ]
    },
    {
      "cell_type": "markdown",
      "source": "- Notice that function state is being retained brtween calls.",
      "metadata": {}
    },
    {
      "cell_type": "markdown",
      "source": "### Implementing an accumulator...",
      "metadata": {}
    },
    {
      "cell_type": "code",
      "source": "# Assumption: Only objects that implement len() will work. \ndef count_items(starting_value = 0):\n    _hold_values = []\n    \n    def increment(item):\n        _hold_values.append(len(item))\n        return sum( _hold_values)\n    return increment",
      "metadata": {
        "trusted": true
      },
      "execution_count": 84,
      "outputs": []
    },
    {
      "cell_type": "code",
      "source": "y = count_items()",
      "metadata": {
        "trusted": true
      },
      "execution_count": 85,
      "outputs": []
    },
    {
      "cell_type": "code",
      "source": "my_items = ['a', 'b', 'c', 'd']",
      "metadata": {
        "trusted": true
      },
      "execution_count": 86,
      "outputs": []
    },
    {
      "cell_type": "code",
      "source": "y(my_items)",
      "metadata": {
        "trusted": true
      },
      "execution_count": 87,
      "outputs": [
        {
          "execution_count": 87,
          "output_type": "execute_result",
          "data": {
            "text/plain": "4"
          },
          "metadata": {}
        }
      ]
    },
    {
      "cell_type": "code",
      "source": "your_items = (1,2,3,4,5)",
      "metadata": {
        "trusted": true
      },
      "execution_count": 88,
      "outputs": []
    },
    {
      "cell_type": "code",
      "source": "y(your_items)",
      "metadata": {
        "trusted": true
      },
      "execution_count": 89,
      "outputs": [
        {
          "execution_count": 89,
          "output_type": "execute_result",
          "data": {
            "text/plain": "9"
          },
          "metadata": {}
        }
      ]
    },
    {
      "cell_type": "markdown",
      "source": "### Function Decorators\n\nDocumentation at https://realpython.com/primer-on-python-decorators/",
      "metadata": {}
    },
    {
      "cell_type": "code",
      "source": "def my_decorator(func):\n    def wrapper():\n        print(\"Something is happening before the function is called.\")\n        func()\n        print(\"Something is happening after the function is called.\")\n    return wrapper\n\n@my_decorator\ndef say_whee():\n    print(\"Whee!\")",
      "metadata": {
        "trusted": true
      },
      "execution_count": 91,
      "outputs": []
    },
    {
      "cell_type": "code",
      "source": "say_whee()",
      "metadata": {
        "trusted": true
      },
      "execution_count": 92,
      "outputs": [
        {
          "name": "stdout",
          "text": "Something is happening before the function is called.\nWhee!\nSomething is happening after the function is called.\n",
          "output_type": "stream"
        }
      ]
    },
    {
      "cell_type": "markdown",
      "source": "### An real world example, logging",
      "metadata": {}
    },
    {
      "cell_type": "code",
      "source": "def function_logging(func):\n    \n    def wrapper(*args, **kwargs):\n        print(\"Function: \", func.__name__)\n        print(\"Arguments: \", *args)\n        print(\"Key Word Arguments: \", **kwargs)\n        func(*args, **kwargs)\n        print(\"Something is happening after the function is called.\")\n    return wrapper",
      "metadata": {
        "trusted": true
      },
      "execution_count": 106,
      "outputs": []
    },
    {
      "cell_type": "code",
      "source": "@function_logging\ndef add_numbers(x, y):\n    print(\"Answer is \", x + y )",
      "metadata": {
        "trusted": true
      },
      "execution_count": 107,
      "outputs": []
    },
    {
      "cell_type": "code",
      "source": "add_numbers(1, 3)",
      "metadata": {
        "trusted": true
      },
      "execution_count": 108,
      "outputs": [
        {
          "name": "stdout",
          "text": "Function:  add_numbers\nArguments:  1 3\nKey Word Arguments: \nAnswer is  4\nSomething is happening after the function is called.\n",
          "output_type": "stream"
        }
      ]
    },
    {
      "cell_type": "code",
      "source": "def func_one():\n    print('One')\n          \ndef func_two():\n    print('Two')\n          \ndef func_three():\n    print('Three')          ",
      "metadata": {
        "trusted": true
      },
      "execution_count": 109,
      "outputs": []
    },
    {
      "cell_type": "code",
      "source": "fun_list = [func_one, func_two, func_three]",
      "metadata": {
        "trusted": true
      },
      "execution_count": 120,
      "outputs": []
    },
    {
      "cell_type": "code",
      "source": "fun_list",
      "metadata": {
        "trusted": true
      },
      "execution_count": 121,
      "outputs": [
        {
          "execution_count": 121,
          "output_type": "execute_result",
          "data": {
            "text/plain": "[<function __main__.func_one()>,\n <function __main__.func_two()>,\n <function __main__.func_three()>]"
          },
          "metadata": {}
        }
      ]
    },
    {
      "cell_type": "code",
      "source": "for x in range(3):\n    fun_list[x]()",
      "metadata": {
        "trusted": true
      },
      "execution_count": 123,
      "outputs": [
        {
          "name": "stdout",
          "text": "One\nTwo\nThree\n",
          "output_type": "stream"
        }
      ]
    },
    {
      "cell_type": "code",
      "source": "",
      "metadata": {},
      "execution_count": null,
      "outputs": []
    }
  ]
}